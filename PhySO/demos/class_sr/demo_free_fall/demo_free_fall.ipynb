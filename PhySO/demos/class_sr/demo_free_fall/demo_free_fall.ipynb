{
 "cells": [
  {
   "cell_type": "markdown",
   "id": "a99eb605-ef70-4f39-a5eb-238549f12182",
   "metadata": {},
   "source": [
    "# $\\Phi$-SO demo : Free fall"
   ]
  },
  {
   "cell_type": "markdown",
   "id": "0054eacb-3ebe-401f-bdd5-4703b32ef0ff",
   "metadata": {},
   "source": [
    "## Package import"
   ]
  },
  {
   "cell_type": "code",
   "execution_count": null,
   "id": "d86033fc-1e31-429a-a76d-2d713cf45eac",
   "metadata": {
    "tags": []
   },
   "outputs": [],
   "source": [
    "# External packages\n",
    "import numpy as np\n",
    "import matplotlib.pyplot as plt\n",
    "import torch"
   ]
  },
  {
   "cell_type": "code",
   "execution_count": null,
   "id": "b0c42171-3ef1-4cdf-9aca-efe22b010ad4",
   "metadata": {
    "tags": []
   },
   "outputs": [],
   "source": [
    "# Internal code import\n",
    "import physo\n",
    "import physo.learn.monitoring as monitoring"
   ]
  },
  {
   "cell_type": "markdown",
   "id": "0b7f7258-a40c-4bfe-adf3-48e949c79304",
   "metadata": {},
   "source": [
    "## Fixing seed"
   ]
  },
  {
   "cell_type": "code",
   "execution_count": null,
   "id": "2d99545d-b890-4680-8682-bf8b6f86ab15",
   "metadata": {
    "tags": []
   },
   "outputs": [],
   "source": [
    "# Seed\n",
    "seed = 0\n",
    "np.random.seed(seed)\n",
    "torch.manual_seed(seed)"
   ]
  },
  {
   "cell_type": "markdown",
   "id": "de6e7396-c27e-4571-ba14-51e95c0d1c55",
   "metadata": {},
   "source": [
    "## Dataset"
   ]
  },
  {
   "cell_type": "code",
   "execution_count": null,
   "id": "490b75d8-dbce-487e-a7a6-a9c506e8e7fc",
   "metadata": {
    "tags": []
   },
   "outputs": [],
   "source": [
    "NOISE_LEVEL = 0.0\n",
    "data_size = 100\n",
    "\n",
    "multi_X = []\n",
    "multi_y = []\n",
    "\n",
    "low = 0\n",
    "up  = 1\n",
    "\n",
    "# Object 1\n",
    "t  = np.random.uniform(low, up, data_size)\n",
    "g  = 9.81\n",
    "v0 = 7.34\n",
    "h0 = 1.23\n",
    "y  = -0.5*g*t**2 + v0*t + h0\n",
    "X = np.stack((t,), axis=0)\n",
    "y_rms = ((y ** 2).mean()) ** 0.5\n",
    "epsilon = NOISE_LEVEL * np.random.normal(0, y_rms, len(y))\n",
    "y = y + epsilon\n",
    "multi_X.append(X)\n",
    "multi_y.append(y)\n",
    "\n",
    "# Object 2\n",
    "t  = np.random.uniform(low, up, data_size)\n",
    "g  = 9.81\n",
    "v0 = -1.17\n",
    "h0 = 6.48\n",
    "y  = -0.5*g*t**2 + v0*t + h0\n",
    "X = np.stack((t,), axis=0)\n",
    "y_rms = ((y ** 2).mean()) ** 0.5\n",
    "epsilon = NOISE_LEVEL * np.random.normal(0, y_rms, len(y))\n",
    "y = y + epsilon\n",
    "multi_X.append(X)\n",
    "multi_y.append(y)\n",
    "\n",
    "\n",
    "# Object 3\n",
    "t  = np.random.uniform(low, up, data_size)\n",
    "g  = 9.81\n",
    "v0 = 5.74\n",
    "h0 = -2.13\n",
    "y  = -0.5*g*t**2 + v0*t + h0\n",
    "X = np.stack((t,), axis=0)\n",
    "y_rms = ((y ** 2).mean()) ** 0.5\n",
    "epsilon = NOISE_LEVEL * np.random.normal(0, y_rms, len(y))\n",
    "y = y + epsilon\n",
    "multi_X.append(X)\n",
    "multi_y.append(y)\n",
    "\n",
    "# Object 4\n",
    "t  = np.random.uniform(low, up, data_size)\n",
    "g  = 9.81\n",
    "v0 = 2.12\n",
    "h0 = 1.42\n",
    "y  = -0.5*g*t**2 + v0*t + h0\n",
    "X = np.stack((t,), axis=0)\n",
    "y_rms = ((y ** 2).mean()) ** 0.5\n",
    "epsilon = NOISE_LEVEL * np.random.normal(0, y_rms, len(y))\n",
    "y = y + epsilon\n",
    "multi_X.append(X)\n",
    "multi_y.append(y)"
   ]
  },
  {
   "cell_type": "markdown",
   "id": "86ff930b-bcd8-4ff0-b51c-79ce9b6966a3",
   "metadata": {},
   "source": [
    "Dataset plot"
   ]
  },
  {
   "cell_type": "code",
   "execution_count": null,
   "id": "ce1dde4d-3efc-4e97-8a11-2288df2cc766",
   "metadata": {
    "tags": []
   },
   "outputs": [],
   "source": [
    "n_objects = len(multi_X)\n",
    "\n",
    "cmap = plt.cm.get_cmap('inferno', n_objects)\n",
    "fig, ax = plt.subplots(1,1, figsize=(5,5))\n",
    "ax.set_xlabel(\"t\")\n",
    "ax.set_ylabel(\"y\")\n",
    "for i in range(n_objects):\n",
    "    ax.scatter(multi_X[i][0], multi_y[i], c=cmap(i), label=\"Object %i\"%(i))\n",
    "ax.legend()\n",
    "fig.savefig(\"data.png\")\n",
    "plt.show()"
   ]
  },
  {
   "cell_type": "markdown",
   "id": "fe916350-a267-4bdc-855f-1d5084af5749",
   "metadata": {},
   "source": [
    "## Running Class SR task"
   ]
  },
  {
   "cell_type": "markdown",
   "id": "b0cbd91d-cbc2-475d-966c-8e53b832f5e4",
   "metadata": {
    "tags": []
   },
   "source": [
    "### Logging config"
   ]
  },
  {
   "cell_type": "code",
   "execution_count": null,
   "id": "d4af4c58-84fe-493e-9fd7-18a91e0f66c3",
   "metadata": {},
   "outputs": [],
   "source": [
    "save_path_training_curves = 'demo_curves.png'\n",
    "save_path_log             = 'demo.log'\n",
    "\n",
    "run_logger     = lambda : monitoring.RunLogger(save_path = save_path_log,\n",
    "                                                do_save = True)\n",
    "\n",
    "run_visualiser = lambda : monitoring.RunVisualiser (epoch_refresh_rate = 1,\n",
    "                                           save_path = save_path_training_curves,\n",
    "                                           do_show   = False,\n",
    "                                           do_prints = True,\n",
    "                                           do_save   = True, )"
   ]
  },
  {
   "cell_type": "markdown",
   "id": "176c5b73-c540-4de8-984d-3a19b2c856ca",
   "metadata": {
    "tags": []
   },
   "source": [
    "### Run"
   ]
  },
  {
   "cell_type": "code",
   "execution_count": null,
   "id": "6d606e1e-b0a4-4cfb-81c8-b609bfa9c4d5",
   "metadata": {
    "scrolled": true,
    "tags": []
   },
   "outputs": [],
   "source": [
    "# Running SR task\n",
    "expression, logs = physo.ClassSR(multi_X, multi_y,\n",
    "                                     # Giving names of variables (for display purposes)\n",
    "                                     X_names = [ \"t\" ,       ],\n",
    "                                     # Giving units of input variables\n",
    "                                     X_units = [ [0, 0, 0] , ],\n",
    "                                     # Giving name of root variable (for display purposes)\n",
    "                                     y_name  = \"y\",\n",
    "                                     # Giving units of the root variable\n",
    "                                     y_units = [0, 0, 0],\n",
    "                                     # Fixed constants\n",
    "                                     fixed_consts       = [ 1.      ],\n",
    "                                     # Units of fixed constants\n",
    "                                     fixed_consts_units = [ [0, 0, 0] ],\n",
    "                                     # Free constants names (for display purposes)\n",
    "                                     class_free_consts_names = [ \"c0\"       ],\n",
    "                                     # Units of free constants\n",
    "                                     class_free_consts_units = [ [0, 0, 0]  ],\n",
    "                                     # Free constants names (for display purposes)\n",
    "                                     spe_free_consts_names = [ \"k0\"       , \"k1\"       , \"k2\"       ],\n",
    "                                     # Units of free constants\n",
    "                                     spe_free_consts_units = [ [0, 0, 0]  , [0, 0, 0]  , [0, 0, 0]  ],\n",
    "                                     # Run config\n",
    "                                     run_config = physo.config.config0b.config0b,\n",
    "\n",
    "                                     op_names = [\"mul\", \"add\", \"sub\", \"div\", \"inv\", \"n2\", \"sqrt\", \"neg\", \"exp\", \"log\", \"sin\", \"cos\"],\n",
    "                                     get_run_logger     = run_logger,\n",
    "                                     get_run_visualiser = run_visualiser,\n",
    "\n",
    "                                     parallel_mode = True,\n",
    "                                     epochs = int(1e9),\n",
    "                                     )"
   ]
  },
  {
   "cell_type": "markdown",
   "id": "f7a763bc-488e-4b1b-849e-d343fd306f84",
   "metadata": {},
   "source": [
    "## Inspecting pareto front expressions"
   ]
  },
  {
   "cell_type": "code",
   "execution_count": null,
   "id": "97029b19-1f9d-490c-b4fb-74207bbb73cf",
   "metadata": {},
   "outputs": [],
   "source": [
    "pareto_front_complexities, pareto_front_expressions, pareto_front_r, pareto_front_rmse = logs.get_pareto_front()"
   ]
  },
  {
   "cell_type": "code",
   "execution_count": null,
   "id": "189abfd7-ac00-423b-8ea9-74313dac290b",
   "metadata": {
    "tags": []
   },
   "outputs": [],
   "source": [
    "expression.get_infix_sympy()"
   ]
  }
 ],
 "metadata": {
  "kernelspec": {
   "display_name": "Python 3 (ipykernel)",
   "language": "python",
   "name": "python3"
  },
  "language_info": {
   "codemirror_mode": {
    "name": "ipython",
    "version": 3
   },
   "file_extension": ".py",
   "mimetype": "text/x-python",
   "name": "python",
   "nbconvert_exporter": "python",
   "pygments_lexer": "ipython3",
   "version": "3.8.18"
  }
 },
 "nbformat": 4,
 "nbformat_minor": 5
}
