{
 "cells": [
  {
   "cell_type": "markdown",
   "id": "14cbc96a-9fe0-41fa-97e8-ca9e48496994",
   "metadata": {},
   "source": [
    "# $\\Phi$-SO demo : Milky Way potential from stellar streams"
   ]
  },
  {
   "cell_type": "code",
   "execution_count": null,
   "id": "eeb8b6b9-7074-486b-8140-fc4f87ec7d91",
   "metadata": {
    "is_executing": true,
    "tags": []
   },
   "outputs": [],
   "source": [
    "#%matplotlib widget\n",
    "# External packages\n",
    "import torch\n",
    "import numpy as np\n",
    "import pandas as pd\n",
    "import os\n",
    "# Plotting\n",
    "import matplotlib.pyplot as plt\n",
    "import matplotlib as mpl\n",
    "import mpl_toolkits.mplot3d.art3d as art3d\n",
    "# Internal code import\n",
    "import physo\n",
    "import physo.learn.monitoring as monitoring"
   ]
  },
  {
   "cell_type": "markdown",
   "id": "e2227d07-7137-41b9-ad78-660d5ae41ef9",
   "metadata": {},
   "source": [
    "## Run params"
   ]
  },
  {
   "cell_type": "code",
   "execution_count": null,
   "id": "3c2f9d66-63e6-4fe9-ab08-2da730972b3c",
   "metadata": {
    "is_executing": true,
    "tags": []
   },
   "outputs": [],
   "source": [
    "N_TRIAL          = 0   # Seed\n",
    "NOISE_LEVEL      = 0.0 # Fraction of noise\n",
    "FRAC_REALIZATION = 1.0 # Fraction of realization to use"
   ]
  },
  {
   "cell_type": "code",
   "execution_count": null,
   "id": "e840d1b1-5220-4c15-bf86-8c5cfb216849",
   "metadata": {
    "is_executing": true,
    "tags": []
   },
   "outputs": [],
   "source": [
    "# Paths\n",
    "RUN_NAME       = \"StreamsSR_%i_%i_%i_%f\"%(0, N_TRIAL, NOISE_LEVEL, FRAC_REALIZATION)\n",
    "PATH_DATA      = \"%s_data.csv\"%(RUN_NAME) # PATH WHERE TO SAVE RUN DATA BACKUP\n",
    "PATH_DATA_PLOT = \"%s_data.png\"%(RUN_NAME) # PATH WHERE TO SAVE RUN DATA BACKUP PLOT\n",
    "\n",
    "# Defining source data abs path before changing directory\n",
    "PATH_SOURCE_DATA = os.path.join(os.path.abspath(''), 'streams.csv',)\n",
    "\n",
    "# Making a directory for this run and running in it\n",
    "if not os.path.exists(RUN_NAME):\n",
    "    os.makedirs(RUN_NAME)\n",
    "os.chdir(os.path.join(os.path.abspath(''), RUN_NAME,))"
   ]
  },
  {
   "cell_type": "markdown",
   "id": "5eb9275e-875b-4059-8c4b-a516a920be15",
   "metadata": {},
   "source": [
    "## Fixing seed"
   ]
  },
  {
   "cell_type": "code",
   "execution_count": null,
   "id": "f751b9ed-13eb-4ea4-832b-ebbf15f3c505",
   "metadata": {
    "is_executing": true,
    "tags": []
   },
   "outputs": [],
   "source": [
    "# Seed\n",
    "seed = N_TRIAL\n",
    "np.random.seed(seed)\n",
    "torch.manual_seed(seed)"
   ]
  },
  {
   "cell_type": "markdown",
   "id": "742fe416-d406-4ee8-b1e2-bbe17a73a0da",
   "metadata": {
    "tags": []
   },
   "source": [
    "## Dataset"
   ]
  },
  {
   "cell_type": "markdown",
   "id": "fc1b76e5-6292-4445-94a3-c334d49f979b",
   "metadata": {},
   "source": [
    "### Loading data"
   ]
  },
  {
   "cell_type": "code",
   "execution_count": null,
   "id": "7ae3feda-3f0e-489c-92b8-b3c4bf1270c8",
   "metadata": {
    "is_executing": true,
    "tags": []
   },
   "outputs": [],
   "source": [
    "df = pd.read_csv(PATH_SOURCE_DATA)\n",
    "df[\"r\"] = np.sqrt(df[\"x\"]**2 + df[\"y\"]**2 + df[\"z\"]**2)\n",
    "df[\"v\"] = np.sqrt(df[\"vx\"]**2 + df[\"vy\"]**2 + df[\"vz\"]**2)\n",
    "    \n",
    "stream_ids = np.unique(df[\"sID\"].to_numpy())              # (n_streams,)\n",
    "stream_dfs = [df[df[\"sID\"] == sID] for sID in stream_ids] # (n_streams,)\n",
    "n_streams = len(stream_dfs)\n"
   ]
  },
  {
   "cell_type": "markdown",
   "id": "05d73cba-c0d0-4904-9e28-e66013086653",
   "metadata": {},
   "source": [
    "#### Data inspection"
   ]
  },
  {
   "cell_type": "code",
   "execution_count": null,
   "id": "01e2870d-adba-42e8-8eff-4caa580e437d",
   "metadata": {
    "is_executing": true,
    "tags": []
   },
   "outputs": [],
   "source": [
    "fig, ax = plt.subplots(1,1, figsize=(10,8))\n",
    "\n",
    "curr_ax = ax\n",
    "\n",
    "cmap = plt.cm.get_cmap('viridis', n_streams)\n",
    "for i, df in enumerate(stream_dfs): \n",
    "    E_kin = 0.5*df[\"v\"]**2\n",
    "    curr_ax.scatter(df[\"r\"], E_kin, marker='.', s=1., c=cmap(i),)\n",
    "    \n",
    "\n",
    "y_ticks = np.array([0.0, 0.2, 0.4, 0.6, 0.8,])*1e5\n",
    "curr_ax.set_yticks(ticks=y_ticks, labels=y_ticks/1e5)\n",
    "curr_ax.set_xticks(ticks=[0,25,50,75,100,125])\n",
    "\n",
    "curr_ax.set_xlim(0., 130.)\n",
    "curr_ax.set_ylim(0., 0.9*1e5)\n",
    "\n",
    "curr_ax.set_xlabel(r\"${\\rm r}$ [${\\rm kpc}$]\")\n",
    "curr_ax.set_ylabel(r\"${\\rm E}_{\\rm kin}$ [$\\times 10^5\\ {\\rm km}^{2}.{\\rm s}^{-2}$]\")\n",
    "fig.suptitle(\"n_realizations : %i\"%(n_streams))\n",
    "fig.savefig(\"streams.png\")\n",
    "\n",
    "plt.show()"
   ]
  },
  {
   "cell_type": "markdown",
   "id": "aad47023-3ca8-424b-90b0-954ef1b39fc1",
   "metadata": {
    "tags": []
   },
   "source": [
    "### Data formatting"
   ]
  },
  {
   "cell_type": "markdown",
   "id": "363d2abf-4007-42aa-9b3a-f9c20fca53c0",
   "metadata": {},
   "source": [
    "#### Normalizing"
   ]
  },
  {
   "cell_type": "code",
   "execution_count": null,
   "id": "e6ba7bd3-8139-4517-bbd5-0c20be5772a0",
   "metadata": {
    "is_executing": true,
    "tags": []
   },
   "outputs": [],
   "source": [
    "# Dataset\n",
    "multi_X = []\n",
    "multi_y = []\n",
    "for i, df in enumerate(stream_dfs):  \n",
    "    r = (df[\"r\"]/20.0 ).to_numpy()\n",
    "    v = (df[\"v\"]/200.0).to_numpy()\n",
    "    E_kin = 0.5 * v**2\n",
    "    X = np.stack((r, ), axis=0)\n",
    "    y = E_kin\n",
    "    multi_X.append(X)\n",
    "    multi_y.append(y)"
   ]
  },
  {
   "cell_type": "markdown",
   "id": "a7639667-e095-4aaa-8351-203bc3fbe53c",
   "metadata": {},
   "source": [
    "#### Sub-sampling realizations"
   ]
  },
  {
   "cell_type": "code",
   "execution_count": null,
   "id": "c908ed85-41d9-4747-b8a1-3ff2925b60e4",
   "metadata": {
    "is_executing": true,
    "tags": []
   },
   "outputs": [],
   "source": [
    "n_realizations = int(np.ceil(len(multi_X)*FRAC_REALIZATION))\n",
    "print(\"n_realizations\", n_realizations)\n",
    "assert n_realizations > 0, \"No realization to use, please check FRAC_REALIZATION value.\"\n",
    "\n",
    "# Using only a fraction of the realizations available (random selection)\n",
    "idxs = np.random.choice(len(multi_X), n_realizations, replace=False)\n",
    "multi_X = [multi_X[i] for i in idxs]\n",
    "multi_y = [multi_y[i] for i in idxs]\n"
   ]
  },
  {
   "cell_type": "markdown",
   "id": "ed2eccf4-7ff4-4509-a4ae-1c94b10f4305",
   "metadata": {},
   "source": [
    "#### Adding noise"
   ]
  },
  {
   "cell_type": "code",
   "execution_count": null,
   "id": "490b0fa9-728b-4ec6-948a-75e5dad33a0b",
   "metadata": {
    "is_executing": true,
    "tags": []
   },
   "outputs": [],
   "source": [
    "for i in range(len(multi_X)):\n",
    "    y = multi_y[i]\n",
    "    y_rms      = ((y ** 2).mean()) ** 0.5\n",
    "    epsilon    = NOISE_LEVEL * np.random.normal(0, y_rms, len(y))\n",
    "    multi_y[i] = y + epsilon"
   ]
  },
  {
   "cell_type": "markdown",
   "id": "43c787b2-2d00-4cf8-98e7-7f7681342451",
   "metadata": {},
   "source": [
    "#### Data inspection"
   ]
  },
  {
   "cell_type": "code",
   "execution_count": null,
   "id": "cafe3a54-1d02-4eea-a32d-6282d0115610",
   "metadata": {
    "is_executing": true,
    "tags": []
   },
   "outputs": [],
   "source": [
    "fig, ax = plt.subplots(1,1, figsize=(10,8))\n",
    "\n",
    "curr_ax = ax\n",
    "\n",
    "cmap = plt.cm.get_cmap('viridis', len(multi_X))\n",
    "for i in range(len(multi_X)): \n",
    "    curr_ax.scatter(multi_X[i][0], multi_y[i], marker='.', s=1., c=cmap(i),)\n",
    "\n",
    "curr_ax.set_xlim(0., 130./20.0)\n",
    "curr_ax.set_ylim(0., 0.9*1e5/(200.0**2))\n",
    "\n",
    "curr_ax.set_xlabel(r\"${\\rm r}$ [$\\times 20\\ {\\rm kpc}$]\")\n",
    "curr_ax.set_ylabel(r\"${\\rm E}_{\\rm kin}$ [$\\times 4.10^9\\ {\\rm km}^{2}.{\\rm s}^{-2}$]\")\n",
    "fig.suptitle(\"n_realizations : %i\"%(len(multi_X)))\n",
    "fig.savefig(PATH_DATA_PLOT)\n",
    "\n",
    "plt.show()"
   ]
  },
  {
   "cell_type": "markdown",
   "id": "794b41e9",
   "metadata": {},
   "source": [
    "#### Backuping run data"
   ]
  },
  {
   "cell_type": "code",
   "execution_count": null,
   "id": "b711445e-7363-428a-a2b6-22ddc5775b76",
   "metadata": {
    "is_executing": true
   },
   "outputs": [],
   "source": [
    "# Save run data (x0, x1, ..., y)\n",
    "col_names = [\"i_real\",] + [\"x%i\"%(i) for i in range(multi_X[0].shape[0])] + [\"y\"]\n",
    "backup_df = pd.DataFrame(columns = col_names)\n",
    "for i in range(len(multi_X)):\n",
    "    X = multi_X[i]\n",
    "    y = multi_y[i]\n",
    "    df = pd.DataFrame(data = np.concatenate(([np.full_like(y,i).astype(int)], X, [y,]), axis=0).T, columns = col_names)\n",
    "    backup_df = pd.concat([backup_df, df], axis=0)\n",
    "\n",
    "backup_df.to_csv(PATH_DATA, sep=\";\", index=False)"
   ]
  },
  {
   "cell_type": "markdown",
   "id": "d10bc55d-6785-4961-a862-8805eb08dda9",
   "metadata": {},
   "source": [
    "## Logging config"
   ]
  },
  {
   "cell_type": "code",
   "execution_count": null,
   "id": "e7396067-d148-44b3-81d9-3f5c5a70673c",
   "metadata": {
    "is_executing": true
   },
   "outputs": [],
   "source": [
    "save_path_training_curves = 'run_curves.png'\n",
    "save_path_log = 'run.log'\n",
    "\n",
    "run_logger     = lambda: monitoring.RunLogger(save_path = save_path_log,\n",
    "                                              do_save   = True)\n",
    "\n",
    "run_visualiser = lambda: monitoring.RunVisualiser(epoch_refresh_rate = 1,\n",
    "                                                  save_path = save_path_training_curves,\n",
    "                                                  do_show   = False,\n",
    "                                                  do_prints = True,\n",
    "                                                  do_save   = True, )"
   ]
  },
  {
   "cell_type": "markdown",
   "id": "6bc57ecd-64cf-4d7d-839c-29daa34ff4e6",
   "metadata": {
    "tags": []
   },
   "source": [
    "## Run config"
   ]
  },
  {
   "cell_type": "code",
   "execution_count": null,
   "id": "f7403af1-8ed2-422b-96f6-1d3c293fa7ef",
   "metadata": {
    "is_executing": true,
    "tags": []
   },
   "outputs": [],
   "source": [
    "run_config = physo.config.config1b.config1b\n",
    "\n",
    "PARALLEL_MODE     = False\n",
    "N_CPUS            = None\n",
    "MAX_N_EVALUATIONS = int(2.5*1e5) + 1\n",
    "# Allowed to search in an infinitely large search space, research will be stopped by MAX_N_EVALUATIONS\n",
    "N_EPOCHS          = int(1e99) "
   ]
  },
  {
   "cell_type": "markdown",
   "id": "53d45926-9e5b-4e59-b2dd-057725205453",
   "metadata": {},
   "source": [
    "Uncomment this to cheat and enforce the correct solution"
   ]
  },
  {
   "cell_type": "code",
   "execution_count": null,
   "id": "2857633d-35db-4bdc-ac59-0dbee53e9f27",
   "metadata": {
    "is_executing": true,
    "tags": []
   },
   "outputs": [],
   "source": [
    "# target_prog_str = [\"add\", \"E_t\", \"mul\", \"A\", \"mul\", \"div\", \"R\", \"r\", \"log\", \"add\", \"1.0\", \"div\", \"r\", \"R\"]\n",
    "# cheater_prior_config = ('SymbolicPrior', {'expression': target_prog_str})\n",
    "# run_config[\"priors_config\"].append(cheater_prior_config)"
   ]
  },
  {
   "cell_type": "markdown",
   "id": "c126cf11-a0f1-49f3-8839-d07201ed17cb",
   "metadata": {},
   "source": [
    "## Run"
   ]
  },
  {
   "cell_type": "code",
   "execution_count": null,
   "id": "ae9215e8-f50d-4ecd-a730-64060461f105",
   "metadata": {
    "is_executing": true
   },
   "outputs": [],
   "source": [
    "# Running SR task\n",
    "expression, logs = physo.ClassSR(multi_X, multi_y,\n",
    "                        # Giving names of variables (for display purposes)\n",
    "                        X_names = [ \"r\"        ],\n",
    "                        # Giving units of input variables\n",
    "                        X_units = [ [1, 0, 0] ],\n",
    "                        # Giving name of root variable (for display purposes)\n",
    "                        y_name  = \"y\",\n",
    "                        # Giving units of the root variable\n",
    "                        y_units = [2,-2, 0],\n",
    "                        # Fixed constants\n",
    "                        fixed_consts       = [ 1.      ],\n",
    "                        fixed_consts_units = [ [0, 0, 0] ],\n",
    "                        # Whole class free constants\n",
    "                        class_free_consts_names = [ \"R\"       , \"A\"        , \"c\"     ],\n",
    "                        class_free_consts_units = [ [1, 0, 0] , [2,-2, 0]  , [0,0,0] ],\n",
    "                        # Dataset specific free constants\n",
    "                        spe_free_consts_names = [ \"E_t\"     , ],\n",
    "                        spe_free_consts_units = [ [2,-2, 0] , ],\n",
    "                        # Run config\n",
    "                        run_config = run_config,\n",
    "                        op_names = [\"add\", \"sub\", \"mul\", \"div\", \"inv\", \"n2\", \"sqrt\", \"neg\", \"log\", \"exp\"],\n",
    "                        get_run_logger     = run_logger,\n",
    "                        get_run_visualiser = run_visualiser,\n",
    "                        parallel_mode     = PARALLEL_MODE,\n",
    "                        n_cpus            = N_CPUS,\n",
    "                        max_n_evaluations = MAX_N_EVALUATIONS,\n",
    "                        epochs            = N_EPOCHS,\n",
    ")\n"
   ]
  },
  {
   "cell_type": "markdown",
   "id": "95379067-077a-40e3-8a9e-ba9dbc5f0e2c",
   "metadata": {},
   "source": [
    "## Results"
   ]
  },
  {
   "cell_type": "code",
   "execution_count": null,
   "id": "ebe6a143-fc21-4d77-b713-14c5ea89f330",
   "metadata": {
    "is_executing": true,
    "tags": []
   },
   "outputs": [],
   "source": [
    "# Inspecting pareto front expressions\n",
    "pareto_front_complexities, pareto_front_expressions, pareto_front_r, pareto_front_rmse = logs.get_pareto_front()\n",
    "\n",
    "expression.get_infix_sympy()"
   ]
  }
 ],
 "metadata": {
  "kernelspec": {
   "display_name": "Python 3 (ipykernel)",
   "language": "python",
   "name": "python3"
  },
  "language_info": {
   "codemirror_mode": {
    "name": "ipython",
    "version": 3
   },
   "file_extension": ".py",
   "mimetype": "text/x-python",
   "name": "python",
   "nbconvert_exporter": "python",
   "pygments_lexer": "ipython3",
   "version": "3.8.18"
  }
 },
 "nbformat": 4,
 "nbformat_minor": 5
}
