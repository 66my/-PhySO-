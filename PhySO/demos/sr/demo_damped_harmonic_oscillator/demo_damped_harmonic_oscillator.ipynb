{
 "cells": [
  {
   "cell_type": "markdown",
   "id": "5968aa00-8a07-4781-9e11-cc0f58c37a67",
   "metadata": {
    "tags": []
   },
   "source": [
    "# $\\Phi$-SO demo : Damped harmonic oscillator"
   ]
  },
  {
   "cell_type": "code",
   "execution_count": null,
   "id": "ebd1ce38-335c-4705-bae7-1819a1806d70",
   "metadata": {
    "ExecuteTime": {
     "end_time": "2024-04-26T13:47:47.347804Z",
     "start_time": "2024-04-26T13:47:44.923332Z"
    },
    "tags": []
   },
   "outputs": [],
   "source": [
    "# External packages\n",
    "import numpy as np\n",
    "import matplotlib.pyplot as plt\n",
    "import torch"
   ]
  },
  {
   "cell_type": "code",
   "execution_count": null,
   "id": "a1db7527-79cd-48a6-8d5d-a3396892d4ec",
   "metadata": {
    "tags": []
   },
   "outputs": [],
   "source": [
    "# Internal code import\n",
    "import physo\n",
    "import physo.learn.monitoring as monitoring"
   ]
  },
  {
   "cell_type": "markdown",
   "id": "e34e843f-05f6-43ed-8f84-865d8270d6b8",
   "metadata": {},
   "source": [
    "## Fixing seed"
   ]
  },
  {
   "cell_type": "code",
   "execution_count": null,
   "id": "d0473c54-498f-4e0b-8f7f-d030742cf8ad",
   "metadata": {
    "ExecuteTime": {
     "end_time": "2024-04-26T13:47:47.432165Z",
     "start_time": "2024-04-26T13:47:47.350526Z"
    },
    "tags": []
   },
   "outputs": [],
   "source": [
    "# Seed\n",
    "seed = 0\n",
    "np.random.seed(seed)\n",
    "torch.manual_seed(seed)"
   ]
  },
  {
   "cell_type": "markdown",
   "id": "ca2c0b89-a4b5-4c58-b94d-30dae45e7f2b",
   "metadata": {},
   "source": [
    "## Dataset"
   ]
  },
  {
   "cell_type": "code",
   "execution_count": null,
   "id": "11f33869-c356-4e86-a38d-a09b334bf5a4",
   "metadata": {
    "ExecuteTime": {
     "end_time": "2023-06-24T19:09:03.999233Z",
     "start_time": "2023-06-24T19:09:03.997525Z"
    },
    "pycharm": {
     "name": "#%%\n"
    },
    "tags": []
   },
   "outputs": [],
   "source": [
    "data_size = int(1e3)"
   ]
  },
  {
   "cell_type": "code",
   "execution_count": null,
   "id": "c4e17c80-0875-496c-b490-974408f6777b",
   "metadata": {
    "ExecuteTime": {
     "end_time": "2023-06-24T19:09:03.999422Z",
     "start_time": "2023-06-24T19:09:03.998057Z"
    },
    "pycharm": {
     "name": "#%%\n"
    },
    "tags": []
   },
   "outputs": [],
   "source": [
    "# Data points\n",
    "t = np.random.uniform(np.pi, 10*np.pi, data_size)\n",
    "X = np.stack((t,), axis=0)\n",
    "f      = 0.784\n",
    "alpha0 = 1./9.89\n",
    "phi    = 0.997\n",
    "y = np.exp(-t*alpha0)*np.cos(f*t + phi)"
   ]
  },
  {
   "cell_type": "markdown",
   "id": "965cecdd-601a-4e54-a03f-d89f945cf976",
   "metadata": {},
   "source": [
    "Dataset plot"
   ]
  },
  {
   "cell_type": "code",
   "execution_count": null,
   "id": "1969e736-4b9a-41ef-be4f-176802df5da6",
   "metadata": {
    "ExecuteTime": {
     "end_time": "2024-04-26T13:47:48.736925Z",
     "start_time": "2024-04-26T13:47:48.448444Z"
    },
    "tags": []
   },
   "outputs": [],
   "source": [
    "n_dim = X.shape[0]\n",
    "fig, ax = plt.subplots(n_dim, 1, figsize=(10,5))\n",
    "for i in range (n_dim):\n",
    "    curr_ax = ax if n_dim==1 else ax[i]\n",
    "    curr_ax.plot(X[i], y, 'k.',)\n",
    "    curr_ax.set_xlabel(\"X[%i]\"%(i))\n",
    "    curr_ax.set_ylabel(\"y\")\n",
    "plt.show()"
   ]
  },
  {
   "cell_type": "markdown",
   "id": "df074fd9-af20-4800-a4f1-708883bbc392",
   "metadata": {
    "tags": []
   },
   "source": [
    "## Running SR task"
   ]
  },
  {
   "cell_type": "markdown",
   "id": "ff82efcd-1d70-4621-8e66-aa7a92b6ff54",
   "metadata": {
    "tags": []
   },
   "source": [
    "### Logging config"
   ]
  },
  {
   "cell_type": "code",
   "execution_count": null,
   "id": "c7f0fdac-dd94-4579-85db-3ec979e504a8",
   "metadata": {},
   "outputs": [],
   "source": [
    "save_path_training_curves = 'demo_curves.png'\n",
    "save_path_log             = 'demo.log'\n",
    "\n",
    "run_logger     = lambda : monitoring.RunLogger(save_path = save_path_log,\n",
    "                                                do_save = True)\n",
    "\n",
    "run_visualiser = lambda : monitoring.RunVisualiser (epoch_refresh_rate = 1,\n",
    "                                           save_path = save_path_training_curves,\n",
    "                                           do_show   = False,\n",
    "                                           do_prints = True,\n",
    "                                           do_save   = True, )"
   ]
  },
  {
   "cell_type": "markdown",
   "id": "ae91464a-2072-46d6-bcb0-98c7bedfaba5",
   "metadata": {},
   "source": [
    "### Run"
   ]
  },
  {
   "cell_type": "code",
   "execution_count": null,
   "id": "badcae4b-6c32-40cc-bc2a-bdc1d085d06e",
   "metadata": {
    "tags": []
   },
   "outputs": [],
   "source": [
    "physo.physym.batch_execute.SHOW_PROGRESS_BAR = True\n"
   ]
  },
  {
   "cell_type": "code",
   "execution_count": null,
   "id": "f4970fbc-2b8e-46b6-82a6-cbd30140b06b",
   "metadata": {},
   "outputs": [],
   "source": [
    "run_config = physo.config.config1.config1"
   ]
  },
  {
   "cell_type": "code",
   "execution_count": null,
   "id": "1eb11a27-b4ee-4c80-af95-b0b6b0e1d49f",
   "metadata": {
    "ExecuteTime": {
     "end_time": "2024-04-26T13:48:18.070514Z",
     "start_time": "2024-04-26T13:47:54.621830Z"
    },
    "scrolled": true,
    "tags": []
   },
   "outputs": [],
   "source": [
    "# Running SR task\n",
    "expression, logs = physo.SR(X, y,\n",
    "                            # Giving names of variables (for display purposes)\n",
    "                            X_names = [ \"t\"       ],\n",
    "                            # Associated physical units (ignore or pass zeroes if irrelevant)\n",
    "                            X_units = [ [0, 0, 1] ],\n",
    "                            # Giving name of root variable (for display purposes)\n",
    "                            y_name  = \"y\",\n",
    "                            y_units = [0, 0, 0],\n",
    "                            # Fixed constants\n",
    "                            fixed_consts       = [ 1.      ],\n",
    "                            fixed_consts_units = [ [0,0,0] ],\n",
    "                            # Free constants names (for display purposes)\n",
    "                            free_consts_names = [ \"f\"        , \"alpha0\"   , \"phi\"     ],\n",
    "                            free_consts_units = [ [0, 0, -1] , [0, 0, -1] , [0, 0, 0] ],\n",
    "                            # Symbolic operations that can be used to make f\n",
    "                            op_names = [\"mul\", \"add\", \"sub\", \"div\", \"inv\", \"n2\", \"sqrt\", \"neg\", \"exp\", \"log\", \"sin\", \"cos\"],\n",
    "                            get_run_logger     = run_logger,\n",
    "                            get_run_visualiser = run_visualiser,\n",
    "                            # Run config\n",
    "                            run_config = run_config,\n",
    "                            # Parallel mode (only available when running from python scripts, not notebooks)\n",
    "                            parallel_mode = False,\n",
    "                            # Number of iterations\n",
    "                            epochs = int(1e99)\n",
    "\n",
    ")"
   ]
  },
  {
   "cell_type": "markdown",
   "id": "ebe0b4b1-11ee-465e-a898-00a2e7a25d10",
   "metadata": {
    "tags": []
   },
   "source": [
    "## Inspecting best expression found"
   ]
  },
  {
   "cell_type": "code",
   "execution_count": null,
   "id": "43a283ce-e582-4967-969d-8e1188cac10a",
   "metadata": {},
   "outputs": [],
   "source": [
    "pareto_front_complexities, pareto_front_programs, pareto_front_r, pareto_front_rmse = run_logger.get_pareto_front()"
   ]
  },
  {
   "cell_type": "code",
   "execution_count": null,
   "id": "a9cd3d5d-20f0-4603-98bc-35d3669471eb",
   "metadata": {
    "tags": []
   },
   "outputs": [],
   "source": [
    "for prog in pareto_front_programs:\n",
    "    prog.show_infix(do_simplify=True)\n",
    "    free_consts = prog.free_consts.class_values[0].detach().cpu().numpy()\n",
    "    for i in range (len(free_consts)):\n",
    "        print(\"%s = %f\"%(prog.library.free_const_names[i], free_consts[i]))"
   ]
  }
 ],
 "metadata": {
  "kernelspec": {
   "display_name": "Python 3 (ipykernel)",
   "language": "python",
   "name": "python3"
  },
  "language_info": {
   "codemirror_mode": {
    "name": "ipython",
    "version": 3
   },
   "file_extension": ".py",
   "mimetype": "text/x-python",
   "name": "python",
   "nbconvert_exporter": "python",
   "pygments_lexer": "ipython3",
   "version": "3.8.18"
  }
 },
 "nbformat": 4,
 "nbformat_minor": 5
}
